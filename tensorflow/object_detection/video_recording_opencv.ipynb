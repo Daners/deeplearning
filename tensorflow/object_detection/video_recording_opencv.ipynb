{
 "cells": [
  {
   "cell_type": "code",
   "execution_count": 14,
   "metadata": {},
   "outputs": [],
   "source": [
    "import cv2\n",
    "import numpy as np\n",
    "import time\n",
    "\n",
    "# remember to use your own path and credentials\n",
    "cap = cv2.VideoCapture('http://192.168.0.137:81/videostream.cgi?loginuse=&loginpas=&resolution=32')\n",
    "cap.set(cv2.CAP_PROP_BUFFERSIZE,1)\n",
    "#print(cv2.getBuildInformation())\n",
    "\n",
    "if (cap.isOpened() == False): \n",
    "    print (\"Unable to read camera feed\")\n",
    "\n",
    "frame_width = int(cap.get(3))\n",
    "frame_height = int(cap.get(4))\n",
    "\n",
    "out = cv2.VideoWriter('recording.mp4',cv2.VideoWriter_fourcc(*'MP4V'), 20.0, (frame_width,frame_height))\n",
    "\n",
    "MAX_SECS = 60 * 60\n",
    "\n",
    "startTime = time.time()\n",
    "\n",
    "while True:\n",
    "    currentTime = time.time()\n",
    "\n",
    "    if currentTime - startTime > MAX_SECS:\n",
    "        break\n",
    "\n",
    "    ret, frame = cap.read()\n",
    "\n",
    "    if ret == True: \n",
    "        out.write(frame)\n",
    "        cv2.imshow('frame',frame)\n",
    "\n",
    "    # Press q on keyboard to stop recording\n",
    "    if cv2.waitKey(1) & 0xFF == ord('q'):\n",
    "        break\n",
    "\n",
    "    else:\n",
    "        break  \n",
    "\n",
    "cap.release()\n",
    "out.release()\n",
    "\n",
    "cv2.destroyAllWindows() "
   ]
  }
 ],
 "metadata": {
  "kernelspec": {
   "display_name": "Python 3",
   "language": "python",
   "name": "python3"
  },
  "language_info": {
   "codemirror_mode": {
    "name": "ipython",
    "version": 3
   },
   "file_extension": ".py",
   "mimetype": "text/x-python",
   "name": "python",
   "nbconvert_exporter": "python",
   "pygments_lexer": "ipython3",
   "version": "3.6.5"
  }
 },
 "nbformat": 4,
 "nbformat_minor": 4
}
